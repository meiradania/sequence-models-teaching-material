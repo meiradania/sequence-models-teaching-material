{
 "cells": [
  {
   "cell_type": "markdown",
   "metadata": {},
   "source": [
    "# Introduction to keras\n",
    "\n",
    "> Keras is a high-level neural networks API, written in Python and capable of running on top of either [TensorFlow](https://www.tensorflow.org),[CNTK](https://github.com/Microsoft/cntk) or  [Theano](https://github.com/Theano/Theano). It was developed with a focus on enabling fast experimentation. \n",
    "> _Being able to go from idea to result with the least possible delay is key to doing good research._\n",
    "\n",
    "There are two ways to build Keras models:  _sequential_  and  _functional_.\n",
    "\n",
    "The [Sequential API](https://keras.io/getting-started/sequential-model-guide/)  is a linear stack of layers. Only for single-input, single-output, it is fit for most of use cases.\n",
    "It is limited in that it does not allow to create models that share layers or have multiple inputs or outputs.\n",
    "\n",
    "Alternatively, the [Functional  API](https://keras.io/getting-started/functional-api-guide/) provides a more flexible way for defining models, allowing to connect layers to any other layer. This results in the definition of complex models, such as multi-output models, directed acyclic graphs, or models with shared layers.\n",
    "\n",
    "The package offers many recipes to follow and many [examples](https://github.com/fchollet/keras/tree/master/examples) for problems in NLP and image classification.\n",
    "\n",
    "The example below was originally published at [Mike Irvine's Blog](https://sempwn.github.io/blog/2017/03/24/keras_basic_intro)"
   ]
  },
  {
   "cell_type": "markdown",
   "metadata": {},
   "source": [
    "## Toy dataset\n",
    "\n",
    "We start by generating data using the [scikit learn library](https://scikit-learn.org/stable/modules/generated/sklearn.datasets.make_moons.html)."
   ]
  },
  {
   "cell_type": "code",
   "execution_count": 5,
   "metadata": {
    "ExecuteTime": {
     "end_time": "2019-09-30T13:19:16.593000Z",
     "start_time": "2019-09-30T13:19:15.303974Z"
    },
    "scrolled": true
   },
   "outputs": [
    {
     "name": "stdout",
     "output_type": "stream",
     "text": [
      "Populating the interactive namespace from numpy and matplotlib\n"
     ]
    }
   ],
   "source": [
    "%pylab inline\n",
    "from sklearn.datasets import make_moons\n",
    "from sklearn.preprocessing import scale\n",
    "from sklearn.model_selection import train_test_split\n",
    "X, Y = make_moons(noise=0.2, random_state=0, n_samples=1000)\n",
    "X = scale(X)\n",
    "X_train, X_test, Y_train, Y_test = train_test_split(X, Y, test_size=.5)"
   ]
  },
  {
   "cell_type": "code",
   "execution_count": 6,
   "metadata": {
    "ExecuteTime": {
     "end_time": "2019-09-30T13:19:16.594000Z",
     "start_time": "2019-09-30T13:19:16.593000Z"
    }
   },
   "outputs": [
    {
     "data": {
      "text/plain": [
       "2"
      ]
     },
     "execution_count": 6,
     "metadata": {},
     "output_type": "execute_result"
    }
   ],
   "source": [
    "X.ndim"
   ]
  },
  {
   "cell_type": "code",
   "execution_count": 7,
   "metadata": {
    "ExecuteTime": {
     "end_time": "2019-09-30T13:19:16.854004Z",
     "start_time": "2019-09-30T13:19:16.594000Z"
    }
   },
   "outputs": [
    {
     "data": {
      "image/png": "[encoded data removed]",
      "text/plain": [
       "<Figure size 432x288 with 1 Axes>"
      ]
     },
     "metadata": {
      "needs_background": "light"
     },
     "output_type": "display_data"
    }
   ],
   "source": [
    "fig, ax = plt.subplots()\n",
    "ax.scatter(X[Y==0, 0], X[Y==0, 1], label='Class 0')\n",
    "ax.scatter(X[Y==1, 0], X[Y==1, 1], color='r', label='Class 1')\n",
    "ax.legend()\n",
    "ax.set(xlabel='X', ylabel='Y', title='Toy binary classification data set');"
   ]
  },
  {
   "cell_type": "markdown",
   "metadata": {},
   "source": [
    "Our data has a binary class (0 or 1), with two input dimensions ($x$ and $y$) and is visualised above. In order \n",
    "to correctly classify the class the neural network will need to successfully separate out the zig-zag shape that intersects\n",
    "where the two classes meet."
   ]
  },
  {
   "cell_type": "markdown",
   "metadata": {},
   "source": [
    "## Introduction to the Sequential API\n",
    "Now we import the keras library as well as the `Sequential` model class which forms the basic skeleton for our neural network. We'll only consider one type of layer, where all the neurons in a layer are connected to all the other neurons in the previous layer.\n",
    "\n",
    " * Models can be instaniated using the `Sequential()` class. \n",
    " * Neural networks are built up from bottom layer to top using the `add()` method."
   ]
  },
  {
   "cell_type": "code",
   "execution_count": 1,
   "metadata": {},
   "outputs": [
    {
     "name": "stdout",
     "output_type": "stream",
     "text": [
      "2.0.0\n"
     ]
    }
   ],
   "source": [
    "import tensorflow as tf\n",
    "print(tf.__version__)"
   ]
  },
  {
   "cell_type": "code",
   "execution_count": null,
   "metadata": {},
   "outputs": [],
   "source": [
    "# tf1 vs. tf2\n"
   ]
  },
  {
   "cell_type": "code",
   "execution_count": 3,
   "metadata": {
    "ExecuteTime": {
     "end_time": "2019-09-30T13:19:23.007108Z",
     "start_time": "2019-09-30T13:19:18.168023Z"
    },
    "scrolled": true
   },
   "outputs": [
    {
     "name": "stderr",
     "output_type": "stream",
     "text": [
      "Using TensorFlow backend.\n"
     ]
    }
   ],
   "source": [
    "import tensorflow.keras as keras\n",
    "from keras.models import Sequential\n",
    "from keras.layers import Dense"
   ]
  },
  {
   "cell_type": "markdown",
   "metadata": {},
   "source": [
    "## Defining the model\n",
    "\n",
    "We'll create a very simple multi-layer perceptron with one hidden layer.\n",
    "\n",
    "This is done in keras by first defining a `Sequential` class object. Layers are then added from the initial layer\n",
    "that includes the data, so we need to specifiy the number of input dimensions using the keyword `input_dim`. We also define the acitvation of this layer to be a rectified linear unit `relu`. \n",
    "\n",
    "Finally a densely connected layer is added with one output and a `sigmoid` activation corresponding to the binary class."
   ]
  },
  {
   "cell_type": "code",
   "execution_count": 8,
   "metadata": {
    "ExecuteTime": {
     "end_time": "2019-09-30T13:19:23.089111Z",
     "start_time": "2019-09-30T13:19:23.007108Z"
    }
   },
   "outputs": [],
   "source": [
    "# Create sequential  multi-layer perceptron\n",
    "model = Sequential()\n",
    "\n",
    "# The model expects rows of data with 2 variables input dimensions.\n",
    "model.add(Dense(32, input_dim=X.ndim, activation='relu'))\n",
    "\n",
    "# The output layer has one node and uses the sigmoid activation function.\n",
    "model.add(Dense(1, activation='sigmoid')) "
   ]
  },
  {
   "cell_type": "markdown",
   "metadata": {},
   "source": [
    "## Compiling the model\n",
    "\n",
    "Before training a model, we need to configure the learning process, that is, compiling the model.\n",
    "The  `compile`  method uses the efficient numerical libraries under the covers (the so-called backend) such as Theano or TensorFlow. The backend automatically chooses the best way to represent the network for training and making predictions to run on your hardware, such as CPU or GPU or even distributed.\n",
    "\n",
    "It expects the following parameters:\n",
    "+ [optimizer](https://keras.io/optimizers), the optimization algorithm such as  `rmsprop`  or  `adagrad`\n",
    "+ [loss function](https://keras.io/losses), the objective that the model will try to minimize such as  `categorical_crossentropy`  or  `mse`\n",
    "+ any additional [metrics](https://keras.io/metrics) we want to consider.  For any classification problem we want to set this to  `metrics=['accuracy']`"
   ]
  },
  {
   "cell_type": "code",
   "execution_count": 8,
   "metadata": {
    "ExecuteTime": {
     "end_time": "2019-09-30T13:19:23.169111Z",
     "start_time": "2019-09-30T13:19:23.089111Z"
    }
   },
   "outputs": [],
   "source": [
    "model.compile(optimizer=keras.optimizers.Adadelta(),\n",
    "              loss=keras.losses.binary_crossentropy,\n",
    "              metrics=['accuracy'])"
   ]
  },
  {
   "cell_type": "markdown",
   "metadata": {
    "ExecuteTime": {
     "end_time": "2019-09-30T09:58:50.525182Z",
     "start_time": "2019-09-30T09:58:50.522180Z"
    }
   },
   "source": [
    "## Investigating the model\n",
    "\n",
    "Let's see what we've constructed layer by layer:\n",
    "\n",
    "+ **Confirm layer order**. It is easy to add layers in the wrong order with the sequential API or to connect them together incorrectly with the functional API. The graph plot can help you confirm that the model is connected the way you intended.\n",
    "+ **Confirm the output shape of each layer**. It is common to have problems when defining the shape of input data for complex networks like convolutional and recurrent neural networks. The summary and plot can help you confirm the input shape to the network is as you intended.\n",
    "+ **Confirm parameters**. Some network configurations can use far fewer parameters, such as the use of a TimeDistributed wrapped Dense layer in an Encoder-Decoder recurrent neural network. Reviewing the summary can help spot cases of using far more parameters than expected."
   ]
  },
  {
   "cell_type": "code",
   "execution_count": 9,
   "metadata": {
    "ExecuteTime": {
     "end_time": "2019-09-30T13:19:23.863123Z",
     "start_time": "2019-09-30T13:19:23.854122Z"
    }
   },
   "outputs": [
    {
     "name": "stdout",
     "output_type": "stream",
     "text": [
      "Model: \"sequential_1\"\n",
      "_________________________________________________________________\n",
      "Layer (type)                 Output Shape              Param #   \n",
      "=================================================================\n",
      "dense_1 (Dense)              (None, 32)                96        \n",
      "_________________________________________________________________\n",
      "dense_2 (Dense)              (None, 1)                 33        \n",
      "=================================================================\n",
      "Total params: 129\n",
      "Trainable params: 129\n",
      "Non-trainable params: 0\n",
      "_________________________________________________________________\n"
     ]
    }
   ],
   "source": [
    "model.summary()"
   ]
  },
  {
   "cell_type": "markdown",
   "metadata": {},
   "source": [
    "## Fitting the model\n",
    "\n",
    "We have defined our model and compiled it ready for efficient computation.\n",
    "Now it is time to execute the model on some data. Keras models are trained on Numpy arrays of input data and labels. \n",
    "\n",
    "\n",
    "The training process will run for a fixed number of iterations through of the rows in the dataset, that we must specify using the __epochs__ argument. \n",
    "\n",
    "We must also set the number of dataset rows that are considered before the model weights are updated within each epoch, called the batch size and set using the __batch_size__ argument.\n",
    "\n",
    "Training occurs over epochs and each epoch is split into batches:\n",
    "+ Epoch: One pass through all of the rows in the training dataset.\n",
    "+ Batch: One or more samples considered by the model within an epoch before weights are updated.\n",
    "\n",
    "\n",
    "For more on that, check out this post on [Machine Learning Mastery Blog](https://machinelearningmastery.com/difference-between-a-batch-and-an-epoch/)"
   ]
  },
  {
   "cell_type": "code",
   "execution_count": 10,
   "metadata": {
    "ExecuteTime": {
     "end_time": "2019-09-30T08:56:30.548532Z",
     "start_time": "2019-09-30T08:56:25.037981Z"
    }
   },
   "outputs": [
    {
     "data": {
      "text/plain": [
       "<keras.callbacks.callbacks.History at 0x7fb048285950>"
      ]
     },
     "execution_count": 10,
     "metadata": {},
     "output_type": "execute_result"
    }
   ],
   "source": [
    "model.fit(X_train, Y_train, batch_size=32, epochs=200,\n",
    "          verbose=0, validation_data=(X_test, Y_test))"
   ]
  },
  {
   "cell_type": "markdown",
   "metadata": {},
   "source": [
    "## Evaluating the model\n",
    "\n",
    "This will only give us an idea of how well we have modeled the dataset (e.g. train accuracy), but no idea of how well the algorithm might perform on new data. \n",
    "\n",
    "You can evaluate your model on your training dataset using the evaluate() function on your model and pass it the same input and output used to train the model.\n",
    "\n",
    "This will generate a prediction for each input and output pair and collect scores, including the average loss and any metrics you have configured, such as accuracy."
   ]
  },
  {
   "cell_type": "code",
   "execution_count": 11,
   "metadata": {
    "ExecuteTime": {
     "end_time": "2019-09-30T08:56:30.548532Z",
     "start_time": "2019-09-30T08:56:25.037981Z"
    }
   },
   "outputs": [
    {
     "name": "stdout",
     "output_type": "stream",
     "text": [
      "Test loss: 0.1277289606332779\n",
      "Test accuracy: 0.9539999961853027\n"
     ]
    }
   ],
   "source": [
    "score = model.evaluate(X_test, Y_test, verbose=0)\n",
    "print('Test loss:', score[0])\n",
    "print('Test accuracy:', score[1])"
   ]
  },
  {
   "cell_type": "markdown",
   "metadata": {},
   "source": [
    "## Plotting the model predictions across the grid\n",
    "We can create a grid of $(x,y)$ values and then predict the class probability on each of these values using our fitted model. We'll then plot the original data with the underlying probabilities to see what the classification looks like and how it compares to the data.\n",
    "\n",
    "More details about how to make predictions for classification and regression models can be found at the [Machine Learning Mastery Blog](https://machinelearningmastery.com/how-to-make-classification-and-regression-predictions-for-deep-learning-models-in-keras/)"
   ]
  },
  {
   "cell_type": "code",
   "execution_count": 14,
   "metadata": {
    "ExecuteTime": {
     "end_time": "2019-09-30T08:56:38.954373Z",
     "start_time": "2019-09-30T08:56:38.835361Z"
    }
   },
   "outputs": [
    {
     "data": {
      "image/png": "[encoded data removed]",
      "text/plain": [
       "<Figure size 720x432 with 2 Axes>"
      ]
     },
     "metadata": {
      "needs_background": "light"
     },
     "output_type": "display_data"
    }
   ],
   "source": [
    "grid = np.mgrid[-3:3:100j,-3:3:100j]\n",
    "grid_2d = grid.reshape(2, -1).T\n",
    "X, Y = grid\n",
    "prediction_probs = model.predict_proba(grid_2d, batch_size=32, verbose=0)\n",
    "\n",
    "fig, ax = plt.subplots(figsize=(10, 6))\n",
    "contour = ax.contourf(X, Y, prediction_probs.reshape(100, 100))\n",
    "ax.scatter(X_test[Y_test==0, 0], X_test[Y_test==0, 1])\n",
    "ax.scatter(X_test[Y_test==1, 0], X_test[Y_test==1, 1], color='r')\n",
    "cbar = plt.colorbar(contour, ax=ax)"
   ]
  },
  {
   "cell_type": "markdown",
   "metadata": {},
   "source": [
    "As we can see in the graph above, the model able to fully capture the zig-zag pattern to fully separate the classes. We could potentially experiment adding more layers or additional input ($xy$ for instance)."
   ]
  },
  {
   "cell_type": "markdown",
   "metadata": {},
   "source": [
    "# Conclusion\n",
    "\n",
    "This was a trivial example of the use of keras on some test data. The real power comes when we start to consider [convolutional](https://en.wikipedia.org/wiki/Convolutional_neural_network) or [recurrent](https://en.wikipedia.org/wiki/Long_short-term_memory) neural networks. \n",
    "\n",
    "More on this on the next notebooks."
   ]
  }
 ],
 "metadata": {
  "anaconda-cloud": {},
  "hide_input": false,
  "kernelspec": {
   "display_name": "Python 3",
   "language": "python",
   "name": "python3"
  },
  "language_info": {
   "codemirror_mode": {
    "name": "ipython",
    "version": 3
   },
   "file_extension": ".py",
   "mimetype": "text/x-python",
   "name": "python",
   "nbconvert_exporter": "python",
   "pygments_lexer": "ipython3",
   "version": "3.7.4"
  },
  "toc": {
   "base_numbering": 1,
   "nav_menu": {},
   "number_sections": true,
   "sideBar": true,
   "skip_h1_title": false,
   "title_cell": "Table of Contents",
   "title_sidebar": "Contents",
   "toc_cell": false,
   "toc_position": {},
   "toc_section_display": true,
   "toc_window_display": false
  }
 },
 "nbformat": 4,
 "nbformat_minor": 1
}
