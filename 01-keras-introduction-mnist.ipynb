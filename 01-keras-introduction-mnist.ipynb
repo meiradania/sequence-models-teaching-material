{
 "cells": [
  {
   "cell_type": "markdown",
   "metadata": {},
   "source": [
    "# Keras Sequential API for Multi-class Classification\n",
    "\n",
    "In this example notebook we are given the task of classifying images of handwritten digits using the MNIST dataset.\n",
    "\n",
    "For doing multi-class classification we have an output neuron for each of the possible classes, representing the probability of the input belonging to that class.\n",
    "The final predicted class is the one corresponding to the neuron which has the highest output value. \n",
    "\n",
    "We will build a neural network having 10 output neurons for each of the 10 digits.\n",
    "\n",
    "<img src=\"assets/mnist_cnn.png\"/>\n",
    "\n",
    "Based on:\n",
    "+ https://github.com/ADGEfficiency/teaching-monolith/blob/master/sequences/keras.ipynb\n",
    "+ https://github.com/sempwn/keras-intro\n",
    "+ https://github.com/keras-team/keras/blob/master/examples/mnist_cnn.py\n",
    "\n",
    "\n",
    "\n",
    "\n",
    "Recap of the steps to build a model and get predictions with Keras:\n",
    "1. Load Data\n",
    "2. Define Keras Model\n",
    "3. Compile Keras Model\n",
    "4. Fit Keras Model.\n",
    "5. Evaluate Keras Model\n",
    "6. Make Predictions"
   ]
  },
  {
   "cell_type": "code",
   "execution_count": 1,
   "metadata": {
    "ExecuteTime": {
     "end_time": "2019-09-30T15:16:06.763587Z",
     "start_time": "2019-09-30T15:16:01.236854Z"
    },
    "scrolled": true
   },
   "outputs": [
    {
     "name": "stderr",
     "output_type": "stream",
     "text": [
      "Using TensorFlow backend.\n"
     ]
    }
   ],
   "source": [
    "import keras\n",
    "from keras.models import Sequential\n",
    "from keras.layers import Dense, Activation, Dropout, Flatten\n",
    "from keras.layers import Conv2D, MaxPooling2D\n",
    "from keras.datasets import mnist\n",
    "\n",
    "import numpy as np\n",
    "import matplotlib.pyplot as plt\n",
    "%matplotlib inline"
   ]
  },
  {
   "cell_type": "markdown",
   "metadata": {},
   "source": [
    "## Loading in the MNIST dataset\n",
    "[MNIST](http://yann.lecun.com/exdb/mnist/) is a classic machine learning dataset (Le Cun post office) known as the \"hello world\" of classification problems.\n",
    "\n",
    "It consists of 70,000 28x28 pixel grayscale images of handwritten numbers, manually classified into the 10 digits, and split into a canonical training set and test set. "
   ]
  },
  {
   "cell_type": "code",
   "execution_count": 2,
   "metadata": {
    "ExecuteTime": {
     "end_time": "2019-09-30T15:16:07.106783Z",
     "start_time": "2019-09-30T15:16:06.763587Z"
    }
   },
   "outputs": [
    {
     "name": "stdout",
     "output_type": "stream",
     "text": [
      "Downloading data from https://s3.amazonaws.com/img-datasets/mnist.npz\n",
      "11493376/11490434 [==============================] - 1s 0us/step\n",
      "60000 train samples, 10000 test samples\n",
      "training data shape:  (60000, 28, 28) (60000,)\n",
      "test data shape:  (10000, 28, 28) (10000,)\n"
     ]
    }
   ],
   "source": [
    "# input image dimensions\n",
    "(X_train, Y_train), (X_test, Y_test) = mnist.load_data()\n",
    "\n",
    "print('%d train samples, %d test samples'% (X_train.shape[0], X_test.shape[0]))\n",
    "print(\"training data shape: \", X_train.shape, Y_train.shape)\n",
    "print(\"test data shape: \", X_test.shape, Y_test.shape)"
   ]
  },
  {
   "cell_type": "code",
   "execution_count": 3,
   "metadata": {
    "ExecuteTime": {
     "end_time": "2019-09-30T15:16:07.263781Z",
     "start_time": "2019-09-30T15:16:07.106783Z"
    }
   },
   "outputs": [
    {
     "name": "stdout",
     "output_type": "stream",
     "text": [
      "8\n"
     ]
    },
    {
     "data": {
      "image/png": "[encoded data removed]",
      "text/plain": [
       "<Figure size 432x288 with 1 Axes>"
      ]
     },
     "metadata": {
      "needs_background": "light"
     },
     "output_type": "display_data"
    }
   ],
   "source": [
    "# check one random data point\n",
    "idx = 7777\n",
    "print(Y_train[idx])\n",
    "plt.imshow(X_train[idx], cmap='Greys');"
   ]
  },
  {
   "cell_type": "markdown",
   "metadata": {},
   "source": [
    "We need to pre-process the data for Keras:\n",
    "1. Ensure they are float32 for precision;\n",
    "+ Normalize the pixel values (which are naturally between 0 and 255) so that they are all between 0 and 1 instead;\n",
    "+ Flatten the image arrays from $n$x28x28 to $n$x784, so each row of the data is the full \"unrolled\" list of pixels;\n",
    "+ Convert class vectors to binary class matrices"
   ]
  },
  {
   "cell_type": "code",
   "execution_count": null,
   "metadata": {},
   "outputs": [],
   "source": []
  },
  {
   "cell_type": "markdown",
   "metadata": {},
   "source": [
    "## Defining the model \n",
    "\n",
    "Add layers accordingly. \n",
    "The first layer in a Sequential model (and only the first, because following layers can do automatic shape inference) needs to receive information about its input shape, specified with the __input_dim__ parameter.\n",
    "\n",
    "+ How do we know the number of layers and their types?\n",
    "\n",
    "This is a very hard question. There are heuristics that we can use and often the best network structure is found through a process of trial and error experimentation. Generally, you need a network large enough to capture the structure of the problem."
   ]
  },
  {
   "cell_type": "code",
   "execution_count": 1,
   "metadata": {
    "ExecuteTime": {
     "end_time": "2019-09-30T15:16:12.151721Z",
     "start_time": "2019-09-30T15:16:12.058122Z"
    }
   },
   "outputs": [],
   "source": [
    "# Create multilayer neural network with more hidden layers.\n",
    "# We'll give it two layers of 100 neurons each, with sigmoid activations. \n",
    "# Then we will make the output layer go through a softmax activation, the standard for classification."
   ]
  },
  {
   "cell_type": "markdown",
   "metadata": {},
   "source": [
    "## Compiling the model\n",
    "Before training a model, you need to configure the learning process, which is done via the  `compile`  method. \n",
    "\n",
    "We should also check we've constructed layer by layer: layer order,  output shape of each layer and the  parameters."
   ]
  },
  {
   "cell_type": "code",
   "execution_count": null,
   "metadata": {
    "ExecuteTime": {
     "end_time": "2019-09-30T15:16:22.985592Z",
     "start_time": "2019-09-30T15:16:22.890993Z"
    }
   },
   "outputs": [],
   "source": []
  },
  {
   "cell_type": "markdown",
   "metadata": {},
   "source": [
    "## Fitting the model\n",
    "\n",
    "The training process will run for a fixed number of iterations through of the rows in the dataset, that we must specify using the __epochs__ argument.\n",
    "\n",
    "We must also set the number of dataset rows that are considered before the model weights are updated within each epoch, called the batch size and set using the __batch_size__ argument."
   ]
  },
  {
   "cell_type": "code",
   "execution_count": null,
   "metadata": {
    "ExecuteTime": {
     "end_time": "2019-09-30T15:17:28.420682Z",
     "start_time": "2019-09-30T15:17:20.151779Z"
    }
   },
   "outputs": [],
   "source": [
    "batch_size = 128\n",
    "epochs = 6\n"
   ]
  },
  {
   "cell_type": "code",
   "execution_count": null,
   "metadata": {},
   "outputs": [],
   "source": [
    "# plot the loss"
   ]
  },
  {
   "cell_type": "markdown",
   "metadata": {},
   "source": [
    "## Evaluating the model"
   ]
  },
  {
   "cell_type": "code",
   "execution_count": null,
   "metadata": {
    "ExecuteTime": {
     "end_time": "2019-09-30T15:18:32.187126Z",
     "start_time": "2019-09-30T15:18:31.920929Z"
    }
   },
   "outputs": [],
   "source": []
  },
  {
   "cell_type": "markdown",
   "metadata": {},
   "source": [
    "## Making predictions\n",
    "Let's take a random digit example to find out how confident the model is at classifying the correct category\n",
    "\n",
    "By calling the __predict_proba()__ function, we will get the probability of the data instance belonging to each class.\n",
    "\n",
    "\n",
    "In the case of a multi-class classification problem like our example here, the softmax activation function is often used on the output layer and the likelihood of the observation for each class is returned as a vector."
   ]
  },
  {
   "cell_type": "code",
   "execution_count": 10,
   "metadata": {
    "ExecuteTime": {
     "end_time": "2019-09-30T15:18:38.427250Z",
     "start_time": "2019-09-30T15:18:35.996081Z"
    }
   },
   "outputs": [],
   "source": [
    "probs = model.predict_proba(x_test, batch_size=1)"
   ]
  },
  {
   "cell_type": "markdown",
   "metadata": {},
   "source": [
    "* Choosing a random data from test set and show probabilities for each class."
   ]
  },
  {
   "cell_type": "code",
   "execution_count": 11,
   "metadata": {
    "ExecuteTime": {
     "end_time": "2019-09-30T15:18:38.663648Z",
     "start_time": "2019-09-30T15:18:38.427250Z"
    }
   },
   "outputs": [
    {
     "data": {
      "image/png": "[encoded data removed]",
      "text/plain": [
       "<Figure size 720x360 with 2 Axes>"
      ]
     },
     "metadata": {
      "needs_background": "light"
     },
     "output_type": "display_data"
    }
   ],
   "source": [
    "i = np.random.randint(0,len(X_test))\n",
    "digit = X_test[i]\n",
    "\n",
    "plt.figure(figsize=(10,5));\n",
    "plt.subplot(1,2,1);\n",
    "plt.title('Example of digit: {}'.format(y_test[i]));\n",
    "plt.imshow(digit, cmap='gray');\n",
    "plt.axis('off');\n",
    "\n",
    "\n",
    "plt.subplot(1,2,2);\n",
    "plt.title('Probabilities for each digit class');\n",
    "plt.bar(np.arange(10), probs[i], align='center'); \n",
    "plt.xticks(np.arange(10),np.arange(10).astype(str));"
   ]
  },
  {
   "cell_type": "markdown",
   "metadata": {},
   "source": [
    "## Wrong predictions\n",
    "\n",
    "Let's look more closely at the predictions on the test data that weren't correct, using the __predict_classes()__ function:"
   ]
  },
  {
   "cell_type": "code",
   "execution_count": 12,
   "metadata": {
    "ExecuteTime": {
     "end_time": "2019-09-30T15:18:39.269240Z",
     "start_time": "2019-09-30T15:18:39.027443Z"
    }
   },
   "outputs": [
    {
     "name": "stdout",
     "output_type": "stream",
     "text": [
      "10000/10000 [==============================] - 0s 22us/step\n"
     ]
    }
   ],
   "source": [
    "predictions = model.predict_classes(x_test, batch_size=32, verbose=1)"
   ]
  },
  {
   "cell_type": "code",
   "execution_count": 13,
   "metadata": {
    "ExecuteTime": {
     "end_time": "2019-09-30T15:18:39.535437Z",
     "start_time": "2019-09-30T15:18:39.504237Z"
    }
   },
   "outputs": [
    {
     "data": {
      "text/plain": [
       "479"
      ]
     },
     "execution_count": 13,
     "metadata": {},
     "output_type": "execute_result"
    }
   ],
   "source": [
    "inds = np.arange(len(predictions))\n",
    "wrong_results = inds[Y_test!=predictions]\n",
    "len(wrong_results)"
   ]
  },
  {
   "cell_type": "markdown",
   "metadata": {},
   "source": [
    "+ Choosing a random wrong result from the test set"
   ]
  },
  {
   "cell_type": "code",
   "execution_count": 14,
   "metadata": {
    "ExecuteTime": {
     "end_time": "2019-09-30T15:18:42.100806Z",
     "start_time": "2019-09-30T15:18:41.817010Z"
    },
    "scrolled": true
   },
   "outputs": [
    {
     "data": {
      "image/png": "[encoded data removed]",
      "text/plain": [
       "<Figure size 720x360 with 2 Axes>"
      ]
     },
     "metadata": {
      "needs_background": "light"
     },
     "output_type": "display_data"
    }
   ],
   "source": [
    "i = np.random.choice(wrong_results, size=1)[0]\n",
    "digit = X_test[i]\n",
    "\n",
    "plt.figure(figsize=(10,5));\n",
    "plt.subplot(1,2,1);\n",
    "plt.title('Example of digit: {}'.format(y_test[i]));\n",
    "plt.imshow(digit, cmap='gray');\n",
    "plt.axis('off');\n",
    "\n",
    "\n",
    "plt.subplot(1,2,2);\n",
    "plt.title('Probabilities for each digit class');\n",
    "plt.bar(np.arange(10), probs[i], align='center'); \n",
    "plt.xticks(np.arange(10),np.arange(10).astype(str));"
   ]
  },
  {
   "cell_type": "markdown",
   "metadata": {},
   "source": [
    "+ Plot histogram comparing wrong and correct classifications"
   ]
  },
  {
   "cell_type": "code",
   "execution_count": 15,
   "metadata": {
    "ExecuteTime": {
     "end_time": "2019-09-30T15:18:52.418682Z",
     "start_time": "2019-09-30T15:18:52.151486Z"
    },
    "scrolled": false
   },
   "outputs": [
    {
     "data": {
      "image/png": "[encoded data removed]",
      "text/plain": [
       "<Figure size 432x432 with 1 Axes>"
      ]
     },
     "metadata": {
      "needs_background": "light"
     },
     "output_type": "display_data"
    }
   ],
   "source": [
    "wrong_probs = np.array([probs[ind][digit] for ind,digit in zip(wrong_results, predictions[wrong_results])])\n",
    "all_probs =  np.array([probs[ind][digit] for ind,digit in zip(np.arange(len(predictions)),predictions)])\n",
    "\n",
    "plt.figure(figsize=(6,6));\n",
    "plt.hist(wrong_probs, alpha=0.5, density=True, label='wrongly-labeled');\n",
    "plt.hist(all_probs, alpha=0.5, density=True, label='all labels');\n",
    "plt.legend();\n",
    "plt.title('Comparison between wrongly and correctly classified labels');\n",
    "plt.xlabel('highest probability');"
   ]
  },
  {
   "cell_type": "markdown",
   "metadata": {},
   "source": [
    "At this point our accuracy is at 95%. This seems not too bad! Random guesses would only get us 10% accuracy, so we must be doing something right.\n",
    "\n",
    "But, the current record for MNIST has 99.8% accuracy... So how can we improve it? \n",
    "\n",
    "Convolutional neural networks have thus far proven to be the best at __computer vision tasks__.\n"
   ]
  },
  {
   "cell_type": "code",
   "execution_count": null,
   "metadata": {},
   "outputs": [],
   "source": []
  }
 ],
 "metadata": {
  "hide_input": false,
  "kernelspec": {
   "display_name": "Python 3",
   "language": "python",
   "name": "python3"
  },
  "language_info": {
   "codemirror_mode": {
    "name": "ipython",
    "version": 3
   },
   "file_extension": ".py",
   "mimetype": "text/x-python",
   "name": "python",
   "nbconvert_exporter": "python",
   "pygments_lexer": "ipython3",
   "version": "3.7.4"
  },
  "toc": {
   "base_numbering": 1,
   "nav_menu": {},
   "number_sections": true,
   "sideBar": true,
   "skip_h1_title": false,
   "title_cell": "Table of Contents",
   "title_sidebar": "Contents",
   "toc_cell": false,
   "toc_position": {},
   "toc_section_display": true,
   "toc_window_display": false
  }
 },
 "nbformat": 4,
 "nbformat_minor": 2
}
