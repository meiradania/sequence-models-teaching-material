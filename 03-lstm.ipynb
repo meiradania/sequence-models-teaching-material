{
 "cells": [
  {
   "cell_type": "markdown",
   "metadata": {},
   "source": [
    "# LSTMs\n",
    "\n",
    "The content for this course (including many of the images) comes from the excellent [colah's blog](https://colah.github.io) - specifically the post [Understanding LSTM Networks](https://colah.github.io/posts/2015-08-Understanding-LSTMs/) and from [deeplearning.ai Sequence Course](https://www.coursera.org/learn/nlp-sequence-models)"
   ]
  },
  {
   "cell_type": "markdown",
   "metadata": {},
   "source": [
    "## Sigmoid versus Tanh \n",
    "\n",
    "Tanh\n",
    "- [-1, 1]\n",
    "- naturally suited to create output distributions similar to a normal distribution\n",
    "- are good at capturing statistical features like \"this one is average\", \"this one is in the 10th percentile\"\n",
    "\n",
    "Sigmoid\n",
    "- [0, 1]\n",
    "- naturally suited for probabilities or relative amounts - a relative amount to signify how strongly the incoming values should be considered\n",
    "- they don't add up to 100%. that's what softmax is for\n",
    "\n",
    "##  Challenges with recurrent neural networks\n",
    "\n",
    "Two historical challenges\n",
    "- how to train (vanishing & exploding gradients)\n",
    "- how to remember long term (the long term dependency problem)\n",
    "\n",
    "Why does the RNN architiecture cause these two challenges?\n",
    "\n",
    "LSTMs specifically address both of these problems.  They were introduced in 1997 (see [Hochreiter & Schmidhuber (1997) Long Short-Term Memory](http://www.bioinf.jku.at/publications/older/2604.pdf)), and work well on a wide range of problems.\n",
    "\n",
    "## The LSTM\n",
    "\n",
    "The **Long Short Term Memory (LSTM)** network is composed of memory cells.  These cells are composed of three gates\n",
    "- forget gate = what to discard from the state (reset)\n",
    "- input gate = update the state (write)\n",
    "- output gate = what to output (read)\n",
    "\n",
    "The input & forget gate update the internal state.  The input gate protect the cell from irrelevant inputs, the output gate protects other units.  \n",
    "\n",
    "The rest of the neural network communicates with the cells via these gates.  The gates ensure a stable error signal (known as a *constant error carrousel*).\n",
    "\n",
    "These gates not only help with keeping gradients consistent, they also help with longer term memory.\n",
    "\n",
    "## Limitations of LSTMs\n",
    "\n",
    "They are not a solution to everything!  \n",
    "\n",
    "Time series problems where the relevant infomation is within a small time window - or problems that are well solved by traditional autoregression models (ARMIA etc)\n",
    "\n",
    "## Future of LSTMs\n",
    "\n",
    "**Attention (2013)** - let every step of an RNN pick information to look at from some larger collection of information\n",
    "\n",
    "## Recurrent recap\n",
    "\n",
    "Infomation is fed to the next timestep\n",
    "\n",
    "<img src=\"assets/RNN.png\" alt=\"\" width=\"800\"/>\n",
    "\n",
    "## LSTM architecture\n",
    "\n",
    "In the LSTM we have more complexity in the cell\n",
    "\n",
    "![](assets/LSTM.png)\n",
    "![](assets/lstm.png)\n"
   ]
  },
  {
   "cell_type": "markdown",
   "metadata": {},
   "source": [
    "## Three gates\n",
    "\n",
    "### 1 - Forget gate\n",
    "\n",
    "<img src=\"assets/forget.png\" alt=\"\" width=\"300\"/>\n",
    "\n",
    "How much of the cell state to forget based on the next observation in the sequence ($x$) and hidden state ($h$)\n",
    "\n",
    "\n",
    "Output of sigmoid (between 0 and 1) operates on the cell state\n",
    "- 0 = forget everything\n",
    "- 1 = remember everything\n",
    "\n",
    "$$ f_{t} = sigmoid(W_{f} \\cdot [h_{t-1}, x_t] + B_{f}) $$\n",
    "\n",
    "Imagine we are reading words in a piece of text, and want use an LSTM to keep track of grammatical structures, such as whether the subject is singular or plural. If the subject changes from a singular word to a plural word, we need to find a way to get rid of our previously stored memory value of the singular/plural state. In an LSTM, the forget gate let's us do this."
   ]
  },
  {
   "cell_type": "markdown",
   "metadata": {},
   "source": [
    "### 2 - Input gate or Update gate\n",
    "\n",
    "<img src=\"assets/input.png\" alt=\"\" width=\"300\"/>\n",
    "\n",
    "Once we forget that the subject being discussed is singular, we need to find a way to update it to reflect that the new subject is now plural. \n",
    "\n",
    "There are three steps here:\n",
    "\n",
    "1. Decide what to update\n",
    "\n",
    "How to update the cell state based on the next observation in the sequence ($x$) and hidden state ($h$). \n",
    "\n",
    "$$ i_{t} = sigmoid(W_{i} \\cdot [h_{t-1}, x_t] + B_{i})) $$\n",
    "\n",
    "Similar to the forget gate, the value is again a vector of values between 0 and 1. \n",
    "\n",
    "2. Candidate vector:\n",
    "\n",
    "To update the new subject we need to create a new vector of numbers that we can add to our previous cell state. The equation we use is:\n",
    "\n",
    "$$ \\overset{\\sim}{C}_{t} = tanh(W_{C} \\cdot [h_{t-1}, x_t] + B_{C})) $$\n",
    "\n",
    "\n",
    "3. Update the values:\n",
    "The new cell state is given by element-wise multiplication of the update gate and candidate.\n",
    "\n",
    "We can now put together the results of our forget and input gates:\n",
    "\n",
    "$$ C_{t} = f_{t} * {C}_{t-1} + i_{t} * \\overset{\\sim}{C}_{t} $$\n",
    "\n",
    "### 3 - Output gate\n",
    "\n",
    "<img src=\"assets/output.png\" alt=\"\" width=\"300\"/>\n",
    "\n",
    "Which parts of the cell state to output based on the next observation in the sequence ($x$) and hidden state ($h$)\n",
    "\n",
    "What to output from the cell state:\n",
    "\n",
    "$$ o_{t} = sigmoid(W_{o}[h_{t-1},x_{t}] + b_{o}])$$\n",
    "\n",
    "What the output should be:\n",
    "\n",
    "$$ h_{t} = o_{t} * tanh(C_{t}) $$"
   ]
  },
  {
   "cell_type": "markdown",
   "metadata": {},
   "source": [
    "## Gated Recurrent Units (GRUs)\n",
    "\n",
    "Simpler than LSTMs & popular\n",
    "\n",
    "Forget & input gates combined into an update gate\n",
    "\n",
    "Cell state & hidden state merged together\n",
    "\n",
    "[Cho, et al. (2014) Learning Phrase Representations using RNN Encoder–Decoder\n",
    "for Statistical Machine Translation](https://arxiv.org/pdf/1406.1078v3.pdf)\n",
    "\n",
    "![](assets/gru.png)\n",
    "\n",
    "See [Greff et. al (2017) LSTM: A Search Space Odyssey](https://arxiv.org/pdf/1503.04069.pdf) for a comparison of different LSTM variants.\n",
    "\n",
    "## Practical\n",
    "\n",
    "Predict a damped sin wave using an LSTM:"
   ]
  },
  {
   "cell_type": "code",
   "execution_count": 29,
   "metadata": {},
   "outputs": [
    {
     "data": {
      "image/png": "[encoded data removed]",
      "text/plain": [
       "<Figure size 432x288 with 1 Axes>"
      ]
     },
     "metadata": {
      "needs_background": "light"
     },
     "output_type": "display_data"
    }
   ],
   "source": [
    "from math import sin, pi, exp\n",
    "\n",
    "import matplotlib.pyplot as plt\n",
    "\n",
    "%matplotlib inline\n",
    "\n",
    "def generate_sequence(length, period, decay):\n",
    "    '''\n",
    "    Generate damped sine wave in [0,1].\n",
    "    When the wave is damped, each successive peak decreases as time goes on.\n",
    "    that is, the amplitude approaches zero as time increases.\n",
    "    \n",
    "    Parameters:\n",
    "    --------\n",
    "    length: int. How many time-steps to generate for the wave.\n",
    "    period: int. The time it takes for a single cycle.\n",
    "    decay: float. constant of decay\n",
    "    '''\n",
    "    \n",
    "    return np.array([0.5 + 0.5 * sin(2 * pi * i / period) * exp(-decay * i) for i in range(length)])\n",
    "\n",
    "f, a = plt.subplots()\n",
    "_ = a.plot(generate_sequence(102, 20, 0.05))"
   ]
  },
  {
   "cell_type": "markdown",
   "metadata": {},
   "source": [
    "### Problem statement\n",
    "Given sine waves with different wave length, phases and lengths, predict the rest of wave. \n",
    "It is a **many-to-one** problem because the model will predict the output time steps at once and not piecewise.\n",
    "\n",
    "<img src=\"assets/dumped_sine_wave_problem.png\" alt=\"\" width=\"250\"/>\n",
    "\n",
    "\n",
    "### Steps\n",
    "1. Generate dataset of input-output samples to train the model\n",
    "+ Define and train model\n",
    "    + stacked LSTM with 2 hidden layers\n",
    "    + each layer with 20 memory cells\n",
    "    + input will be a vector of 5 values, that is, 5 time steps\n",
    "     expects a tuple containing the number of timesteps and the number of features.\n",
    "    + output layer as a linear activation function (default when no function is specified)\n",
    "    + loss function = mean absolute error\n",
    "+ Predict\n",
    "+ Evaluate predictions"
   ]
  },
  {
   "cell_type": "code",
   "execution_count": 117,
   "metadata": {},
   "outputs": [],
   "source": [
    "import numpy as np\n",
    "from tensorflow.keras.models import Sequential\n",
    "import tensorflow.keras.layers\n",
    "\n",
    "np.random.seed(0) "
   ]
  },
  {
   "cell_type": "code",
   "execution_count": 104,
   "metadata": {},
   "outputs": [
    {
     "name": "stdout",
     "output_type": "stream",
     "text": [
      "(10000, 50, 1)\n"
     ]
    },
    {
     "data": {
      "text/plain": [
       "(10000, 5)"
      ]
     },
     "execution_count": 104,
     "metadata": {},
     "output_type": "execute_result"
    }
   ],
   "source": [
    "def generate_dataset(seq_len, n, output_size):\n",
    "    '''\n",
    "    Generate dataset of damped sine waves with random periods and decays.\n",
    "    Dimension of dataset = (n, seq_len, 1)\n",
    "\n",
    "    \n",
    "    Parameters:\n",
    "    --------\n",
    "    seq_len: int.  How many time-steps to generate for each wave.\n",
    "    n: int. Number of samples in the dataset.\n",
    "    output_size: int. Length of output sequence.\n",
    "    \n",
    "    Returns:\n",
    "    --------\n",
    "    x: array. dimension = (n, seq_len, 1)\n",
    "    y: array. dimension = (n, output_size)\n",
    "    \n",
    "    '''\n",
    "    x, y = list(), list()\n",
    "    \n",
    "    ### code here\n",
    "    return x, y\n",
    "\n",
    "\n",
    "\n",
    "length = 50\n",
    "output = 5\n",
    "x_train, y_train = generate_dataset(length, 10000, output)\n",
    "\n",
    "print(x_train.shape)\n",
    "y_train.shape"
   ]
  },
  {
   "cell_type": "code",
   "execution_count": 105,
   "metadata": {},
   "outputs": [
    {
     "data": {
      "image/png": "[encoded data removed]",
      "text/plain": [
       "<Figure size 432x288 with 1 Axes>"
      ]
     },
     "metadata": {
      "needs_background": "light"
     },
     "output_type": "display_data"
    }
   ],
   "source": [
    "import matplotlib.pyplot as plt\n",
    "\n",
    "\n",
    "for i in range(5):\n",
    "    plt.plot([x for x in x_train[i,:,0]] + [x for x in y_train[i]], '-o')\n",
    "    \n",
    "# 5 damped sine wave sequenes with each 50 time steps.\n",
    "# additional 5 steps are generated at the end of the sequence\n",
    "# which will be held as test data"
   ]
  },
  {
   "cell_type": "code",
   "execution_count": 106,
   "metadata": {},
   "outputs": [
    {
     "name": "stdout",
     "output_type": "stream",
     "text": [
      "Model: \"sequential_5\"\n",
      "_________________________________________________________________\n",
      "Layer (type)                 Output Shape              Param #   \n",
      "=================================================================\n",
      "lstm_5 (LSTM)                (None, 50, 20)            1760      \n",
      "_________________________________________________________________\n",
      "lstm_6 (LSTM)                (None, 20)                3280      \n",
      "_________________________________________________________________\n",
      "dense_2 (Dense)              (None, 5)                 105       \n",
      "=================================================================\n",
      "Total params: 5,145\n",
      "Trainable params: 5,145\n",
      "Non-trainable params: 0\n",
      "_________________________________________________________________\n"
     ]
    }
   ],
   "source": [
    "# building the model\n"
   ]
  },
  {
   "cell_type": "markdown",
   "metadata": {},
   "source": [
    "### Training\n",
    "The network is trained using the backpropagation algorithm and optimized according to the optimization algorithm and loss function specified when compiling the model.\n",
    "\n",
    "The backpropagation algorithm requires that the network be trained for a specified number of epochs or exposures to the training dataset.\n",
    "\n",
    "Each epoch can be partitioned into groups of input-output pattern pairs called batches. This defines the number of patterns that the network is exposed to before the weights are updated within an epoch. It is also an efficiency optimization, ensuring that not too many input patterns are loaded into memory at a time."
   ]
  },
  {
   "cell_type": "code",
   "execution_count": 107,
   "metadata": {},
   "outputs": [
    {
     "name": "stdout",
     "output_type": "stream",
     "text": [
      "Epoch 1/1\n",
      "10000/10000 [==============================] - 24s 2ms/step - loss: 0.0487\n"
     ]
    },
    {
     "data": {
      "text/plain": [
       "<keras.callbacks.callbacks.History at 0x7fc26b89bdd0>"
      ]
     },
     "execution_count": 107,
     "metadata": {},
     "output_type": "execute_result"
    }
   ],
   "source": [
    "model.fit(x_train, y_train, batch_size=10, epochs=1)\n",
    "# we could generate a small number of samples and \n",
    "# fit the model on those over many epochs -> problem: overfitting\n",
    "\n",
    "# here with batch size of 10 means that the weights will be updated \n",
    "# and the internal memory state will be reset after each 10 samples"
   ]
  },
  {
   "cell_type": "code",
   "execution_count": 111,
   "metadata": {},
   "outputs": [
    {
     "name": "stdout",
     "output_type": "stream",
     "text": [
      "10000/10000 [==============================] - 2s 207us/step\n",
      "MAE: 0.035155\n"
     ]
    }
   ],
   "source": [
    "# evaluate on training set\n"
   ]
  },
  {
   "cell_type": "code",
   "execution_count": 116,
   "metadata": {
    "scrolled": true
   },
   "outputs": [
    {
     "data": {
      "image/png": "[encoded data removed]",
      "text/plain": [
       "<Figure size 432x288 with 1 Axes>"
      ]
     },
     "metadata": {
      "needs_background": "light"
     },
     "output_type": "display_data"
    }
   ],
   "source": [
    "# evaluate on one wave"
   ]
  },
  {
   "cell_type": "markdown",
   "metadata": {},
   "source": [
    "The choice of activation function is most important for the output layer as it will define the format that predictions will take.\n",
    "\n",
    "\n",
    "For example, below are some common predictive modeling problem types and the structure and standard activation function that you can use in the output layer:\n",
    "\n",
    "\n",
    "+ Regression: Linear activation function, or ‘linear’, and the number of neurons matching the number of outputs.\n",
    "+ Binary Classification (2 class): Logistic activation function, or ‘sigmoid’, and one neuron the output layer.\n",
    "+ Multiclass Classification (>2 class): Softmax activation function, or ‘softmax’, and one output neuron per class value, assuming a one-hot encoded output pattern."
   ]
  },
  {
   "cell_type": "code",
   "execution_count": null,
   "metadata": {},
   "outputs": [],
   "source": []
  }
 ],
 "metadata": {
  "hide_input": false,
  "kernelspec": {
   "display_name": "Python 3",
   "language": "python",
   "name": "python3"
  },
  "language_info": {
   "codemirror_mode": {
    "name": "ipython",
    "version": 3
   },
   "file_extension": ".py",
   "mimetype": "text/x-python",
   "name": "python",
   "nbconvert_exporter": "python",
   "pygments_lexer": "ipython3",
   "version": "3.7.4"
  },
  "toc": {
   "base_numbering": 1,
   "nav_menu": {},
   "number_sections": true,
   "sideBar": true,
   "skip_h1_title": false,
   "title_cell": "Table of Contents",
   "title_sidebar": "Contents",
   "toc_cell": false,
   "toc_position": {},
   "toc_section_display": true,
   "toc_window_display": false
  }
 },
 "nbformat": 4,
 "nbformat_minor": 4
}
